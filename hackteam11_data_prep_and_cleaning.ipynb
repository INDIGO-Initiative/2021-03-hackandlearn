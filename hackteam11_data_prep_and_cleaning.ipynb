{
 "cells": [
  {
   "cell_type": "markdown",
   "metadata": {},
   "source": [
    "# Importing and Cleaning the Ashoka FCRA dataset"
   ]
  },
  {
   "cell_type": "code",
   "execution_count": null,
   "metadata": {},
   "outputs": [],
   "source": [
    "import pandas as pd"
   ]
  },
  {
   "cell_type": "markdown",
   "metadata": {},
   "source": [
    "**Import .csv files to dataframe. Update the path to the files to match yours, as needed**"
   ]
  },
  {
   "cell_type": "code",
   "execution_count": null,
   "metadata": {},
   "outputs": [],
   "source": [
    "fcra_2009_10 = pd.read_csv('./dataset/Donors 2009-10.csv', dtype={'Reg.no':str})\n",
    "fcra_2010_11 = pd.read_csv('./dataset/Donors 2010-11.csv', dtype={'Reg.no':str})\n",
    "fcra_2011_12 = pd.read_csv('./dataset/Donors 2011-12.csv', dtype={'Reg.no':str})\n",
    "fcra_2012_13 = pd.read_csv('./dataset/Donors 2012-13.csv', dtype={'Reg.no':str})\n",
    "fcra_2013_14 = pd.read_csv('./dataset/Donors 2013-14.csv', dtype={'Reg.no':str})\n",
    "fcra_2014_15 = pd.read_csv('./dataset/Donors 2014-15.csv', dtype={'Reg.no':str})\n",
    "fcra_2015_16 = pd.read_csv('./dataset/Donors 2015-16.csv', dtype={'Reg.no':str})\n",
    "fcra_2016_17 = pd.read_csv('./dataset/Donors 2016-17.csv', sep='\\t', dtype={'Reg.no':str})\n",
    "fcra_2017_18 = pd.read_csv('./dataset/Donors 2017-18.csv', dtype={'Reg.No':str})\n",
    "fcra_2018_19 = pd.read_csv('./dataset/Donors 2018-19.csv', dtype={'Reg.No':str})"
   ]
  },
  {
   "cell_type": "markdown",
   "metadata": {},
   "source": [
    "**Standardize the column names across the years**"
   ]
  },
  {
   "cell_type": "code",
   "execution_count": null,
   "metadata": {},
   "outputs": [],
   "source": [
    "frames = [fcra_2009_10, fcra_2010_11, fcra_2011_12, fcra_2012_13,\n",
    "                         fcra_2013_14, fcra_2014_15, fcra_2015_16, fcra_2016_17,\n",
    "                         fcra_2017_18, fcra_2018_19]\n",
    "\n",
    "for frame in frames:\n",
    "    print(list(frame.columns))"
   ]
  },
  {
   "cell_type": "code",
   "execution_count": null,
   "metadata": {},
   "outputs": [],
   "source": [
    "fcra_2017_18 = fcra_2017_18.rename(columns={'Year': 'year', 'State':'state', 'District':'dist',\n",
    "                                           'Reg.No':'Reg.no', 'Donor_type': 'Donor type',\n",
    "                                           'Donor_Address':'Address', 'Donor_Name':'Name',\n",
    "                                            'Amount (INR)':'Amount'})\n",
    "fcra_2018_19 = fcra_2018_19.rename(columns={'Year': 'year', 'State':'state', 'District':'dist',\n",
    "                                           'Reg.No':'Reg.no', 'Donor_type': 'Donor type',\n",
    "                                           'Donor_Address':'Address', 'Donor_Name':'Name',\n",
    "                                            'Amount (INR)':'Amount'})"
   ]
  },
  {
   "cell_type": "markdown",
   "metadata": {},
   "source": [
    "**Concatenate the years and inspect**"
   ]
  },
  {
   "cell_type": "code",
   "execution_count": null,
   "metadata": {},
   "outputs": [],
   "source": [
    "fcra_2009_19 = pd.concat([fcra_2009_10, fcra_2010_11, fcra_2011_12, fcra_2012_13,\n",
    "                         fcra_2013_14, fcra_2014_15, fcra_2015_16, fcra_2016_17,\n",
    "                         fcra_2017_18, fcra_2018_19], sort=False)\n",
    "\n",
    "print(\"There are\", len(fcra_2009_19), \"rows in the dataframe.\")\n",
    "fcra_2009_19.head()"
   ]
  },
  {
   "cell_type": "markdown",
   "metadata": {},
   "source": [
    "**De-Duplicate Alternate Spellings of Large Donors**"
   ]
  },
  {
   "cell_type": "code",
   "execution_count": null,
   "metadata": {},
   "outputs": [],
   "source": [
    "de_duplication_data = pd.read_csv('de_duplication_1_oct.csv')\n",
    "de_duplication_data.head(20)"
   ]
  },
  {
   "cell_type": "code",
   "execution_count": null,
   "metadata": {},
   "outputs": [],
   "source": [
    "# Select only needed columns\n",
    "de_duplication_data = de_duplication_data[['donor_name', 'canonical_name']]"
   ]
  },
  {
   "cell_type": "code",
   "execution_count": null,
   "metadata": {},
   "outputs": [],
   "source": [
    "fcra_2009_19_named = pd.merge(fcra_2009_19, de_duplication_data, left_on=\"Name\", right_on = \"donor_name\",\n",
    "                             how='left').drop('donor_name', axis=1)\n",
    "print(len(fcra_2009_19_named))\n",
    "fcra_2009_19_named.head()"
   ]
  },
  {
   "cell_type": "code",
   "execution_count": null,
   "metadata": {},
   "outputs": [],
   "source": [
    "fcra_2009_19_named['donor_name'] = fcra_2009_19_named['Name']\n",
    "fcra_2009_19_named.loc[fcra_2009_19_named['canonical_name'].notna(), 'donor_name'] = fcra_2009_19_named['canonical_name'] "
   ]
  },
  {
   "cell_type": "code",
   "execution_count": null,
   "metadata": {},
   "outputs": [],
   "source": [
    "fcra_2009_19_named.head(50)"
   ]
  },
  {
   "cell_type": "markdown",
   "metadata": {},
   "source": [
    "**A little more cleanup**"
   ]
  },
  {
   "cell_type": "code",
   "execution_count": null,
   "metadata": {},
   "outputs": [],
   "source": [
    "fcra_2009_19_named = fcra_2009_19_named.rename(columns={'Reg.no': 'FCRA', 'Name':'donor_name_orig',\n",
    "                                                       'Donor type':'donor_type', 'Address':'donor_address',\n",
    "                                                       'Receipt Date':'receipt_date', 'Donor_s_no':'donor_s_no'})"
   ]
  },
  {
   "cell_type": "markdown",
   "metadata": {},
   "source": [
    "**Write to CSV**"
   ]
  },
  {
   "cell_type": "code",
   "execution_count": null,
   "metadata": {},
   "outputs": [],
   "source": [
    "fcra_2009_19_named.to_csv('fcra_2009_19.csv', index=False)"
   ]
  }
 ],
 "metadata": {
  "kernelspec": {
   "display_name": "Python 3",
   "language": "python",
   "name": "python3"
  },
  "language_info": {
   "codemirror_mode": {
    "name": "ipython",
    "version": 3
   },
   "file_extension": ".py",
   "mimetype": "text/x-python",
   "name": "python",
   "nbconvert_exporter": "python",
   "pygments_lexer": "ipython3",
   "version": "3.8.5"
  }
 },
 "nbformat": 4,
 "nbformat_minor": 2
}
