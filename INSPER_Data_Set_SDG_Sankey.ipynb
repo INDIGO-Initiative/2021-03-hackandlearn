{
  "nbformat": 4,
  "nbformat_minor": 0,
  "metadata": {
    "colab": {
      "name": "INSPER Data Set SDG Sankey.ipynb",
      "provenance": [],
      "collapsed_sections": []
    },
    "kernelspec": {
      "name": "python3",
      "display_name": "Python 3"
    }
  },
  "cells": [
    {
      "cell_type": "markdown",
      "metadata": {
        "id": "qCnf2-vYx_0c"
      },
      "source": [
        "# INSPER Data Set SDG Sankey\n",
        "\n",
        "This creates some Sankey diagrams from the data in the INSPER data set.\n",
        "\n",
        "It is inspired by the diagrams on https://golab.bsg.ox.ac.uk/knowledge-bank/indigo/prototype-social-outcomes-and-sdgs/ ( For code see https://github.com/INDIGO-Initiative/jupyter-notebooks/tree/main/sustainable-development-goals-sankey ) "
      ]
    },
    {
      "cell_type": "markdown",
      "metadata": {
        "id": "-Vdv7obSGXt4"
      },
      "source": [
        "## Upgrade and install needed libraries\n",
        "\n",
        "You will need to restart after doing this"
      ]
    },
    {
      "cell_type": "code",
      "metadata": {
        "id": "dGUKr5RXFQf_"
      },
      "source": [
        "!pip install --upgrade plotly\n",
        "!pip install kaleido"
      ],
      "execution_count": null,
      "outputs": []
    },
    {
      "cell_type": "markdown",
      "metadata": {
        "id": "vlpmqB4Uy_Tg"
      },
      "source": [
        "## Get the Data and provide the data to this workbook\n",
        "\n",
        "Download the INSPER data as a CSV file. Upload it to this runtime by clicking files icon on the left bar, then the upload icon. Make sure it is called `data.csv`\n"
      ]
    },
    {
      "cell_type": "markdown",
      "metadata": {
        "id": "z94AQUTlzP5c"
      },
      "source": [
        "## Load data into memory"
      ]
    },
    {
      "cell_type": "code",
      "metadata": {
        "id": "QcUx136jzV2k"
      },
      "source": [
        "import csv\n",
        "\n",
        "all_projects = []\n",
        "with open('data.csv', newline='') as csvfile:\n",
        "    csvreader = csv.DictReader(csvfile)\n",
        "    for row in csvreader:\n",
        "        all_projects.append(row)\n"
      ],
      "execution_count": null,
      "outputs": []
    },
    {
      "cell_type": "markdown",
      "metadata": {
        "id": "vrGO6cEo0vOk"
      },
      "source": [
        ""
      ]
    },
    {
      "cell_type": "markdown",
      "metadata": {
        "id": "y9zCDe1Z0TqF"
      },
      "source": [
        "## Filter Data\n",
        "\n",
        "If you want to work with only a set of the data, filter it here. Some examples are commented out in the code.\n"
      ]
    },
    {
      "cell_type": "code",
      "metadata": {
        "id": "N0VRMphm0Xlo"
      },
      "source": [
        "projects = []\n",
        "for project in all_projects:\n",
        "    if True:\n",
        "    #if int(project['ID']) < 10:\n",
        "        projects.append(project)"
      ],
      "execution_count": null,
      "outputs": []
    },
    {
      "cell_type": "markdown",
      "metadata": {
        "id": "leDewLIr0weo"
      },
      "source": [
        "# Some Code Constants and Libraries\n",
        "\n",
        "We'll just define these for use later\n"
      ]
    },
    {
      "cell_type": "code",
      "metadata": {
        "id": "zhCAxtJ401eu"
      },
      "source": [
        "import plotly.graph_objects as go\n",
        "from collections import defaultdict\n",
        "\n",
        "COLUMN_PROJECT_ID = 'ID'\n",
        "COLUMN_PROJECT_NAME = 'Name'\n",
        "COLUMN_SDG_1 = 'SDG 1'\n",
        "COLUMN_SDG_2 = 'SDG 2'\n",
        "COLUMN_SDG_3 = 'SDG 3'\n",
        "COLUMN_SDG_4 = 'SDG 4'\n",
        "COLUMN_TARGET_POPULATION_NUMBER = 'Target Population Number'\n",
        "\n",
        "\n",
        "SDG_GOAL_MAP = {\n",
        "    '1': {\n",
        "        'name': '1. No poverty',\n",
        "        'node_colour': '#e5243b',\n",
        "        'link_colour': 'rgba(229, 36, 59, 0.5)',\n",
        "    },\n",
        "    '2': {\n",
        "        'name': '2. Zero hunger',\n",
        "        'node_colour': '#DDA63A',\n",
        "        'link_colour': 'rgba(221, 166, 58, 0.5)',\n",
        "    },\n",
        "    '3': {\n",
        "        'name': '3. Good health and wellbeing',\n",
        "        'node_colour': '#4C9F38',\n",
        "        'link_colour': 'rgba(76, 159, 56, 0.5)',\n",
        "    },\n",
        "    '4': {\n",
        "        'name': '4. Quality education',\n",
        "        'node_colour': '#C5192D',\n",
        "        'link_colour': 'rgba(197, 25, 45, 0.5)',\n",
        "    },\n",
        "    '5': {\n",
        "        'name': '5. Gender equality',\n",
        "        'node_colour': '#FF3A21',\n",
        "        'link_colour': 'rgba(255, 58, 33, 0.5)',\n",
        "    },\n",
        "    '6': {\n",
        "        'name': '6. Clean water and sanitation',\n",
        "        'node_colour': '#26BDE2',\n",
        "        'link_colour': 'rgba(38, 189, 226, 0.5)',\n",
        "    },\n",
        "    '7': {\n",
        "        'name': '7. Affordable and clean energy',\n",
        "        'node_colour': '#FCC30B',\n",
        "        'link_colour': 'rgba(252, 195, 11, 0.5)',\n",
        "    },\n",
        "    '8': {\n",
        "        'name': '8. Work and economic growth',\n",
        "        'node_colour': '#A21942',\n",
        "        'link_colour': 'rgba(162, 25, 66, 0.5)',\n",
        "    },\n",
        "    '9': {\n",
        "        'name': '9. Industry, innovation and infrastructure',\n",
        "        'node_colour': '#FD6925',\n",
        "        'link_colour': 'rgba(253, 105, 37, 0.5)',\n",
        "    },\n",
        "    '10': {\n",
        "        'name': '10. Reduced inequalities',\n",
        "        'node_colour': '#DD1367',\n",
        "        'link_colour': 'rgba(221, 19, 103, 0.5)',\n",
        "    },\n",
        "    '11': {\n",
        "        'name': '11. Sustainable cities and communities',\n",
        "        'node_colour': '#FD9D24',\n",
        "        'link_colour': 'rgba(253, 157, 36, 0.5)',\n",
        "    },\n",
        "    '12': {\n",
        "        'name': '12. Responsible consumption and production',\n",
        "        'node_colour': '#BF8B2E',\n",
        "        'link_colour': 'rgba(191, 139, 46, 0.5)',\n",
        "    },\n",
        "    '13': {\n",
        "        'name': '13. Climate action',\n",
        "        'node_colour': '#3F7E44',\n",
        "        'link_colour': 'rgba(63, 126, 68, 0.5)',\n",
        "    },\n",
        "    '14': {\n",
        "        'name': '14. Life below water',\n",
        "        'node_colour': '#0A97D9',\n",
        "        'link_colour': 'rgba(10, 151, 217, 0.5)',\n",
        "    },\n",
        "    '15': {\n",
        "        'name': '15. Life on land',\n",
        "        'node_colour': '#56C02B',\n",
        "        'link_colour': 'rgba(86, 192, 43, 0.5)',\n",
        "    },\n",
        "    '16': {\n",
        "        'name': '16. Peace, justice and strong institutions',\n",
        "        'node_colour': '#00689D',\n",
        "        'link_colour': 'rgba(0, 104, 157, 0.5)',\n",
        "    },\n",
        "    '17': {\n",
        "        'name': '17. Partnerships for the goals',\n",
        "        'node_colour': '#19486A',\n",
        "        'link_colour': 'rgba(25, 72, 106, 0.5)',\n",
        "    },\n",
        "}\n",
        "\n",
        "def sankey_viz(projects, sankey_height=400, filename='out.png', weight_by_population=False):\n",
        "\n",
        "    # Pass 1: Make sure we have all the nodes listed\n",
        "    projects_id_to_name = {}\n",
        "    sdg_nodes = set()\n",
        "    for project in projects:\n",
        "        sdg_values = [ project[COLUMN_SDG_1] , project[COLUMN_SDG_2] , project[COLUMN_SDG_3] , project[COLUMN_SDG_4] ]\n",
        "        for sdg_value in sdg_values:\n",
        "            if sdg_value:\n",
        "                projects_id_to_name[project[COLUMN_PROJECT_ID]] = project[COLUMN_PROJECT_NAME]\n",
        "                sdg_nodes.add(sdg_value)\n",
        "\n",
        "    # Pass 2: Get links\n",
        "    links = defaultdict(dict)\n",
        "    for project in projects:\n",
        "        sdg_values = [ project[COLUMN_SDG_1] , project[COLUMN_SDG_2] , project[COLUMN_SDG_3] , project[COLUMN_SDG_4] ]\n",
        "        for sdg_value in sdg_values:\n",
        "            if sdg_value:\n",
        "                if weight_by_population:\n",
        "                    population = int(project[COLUMN_TARGET_POPULATION_NUMBER]) if project[COLUMN_TARGET_POPULATION_NUMBER] else 1\n",
        "                    # The only way there would not be a value here already is if one project listed the same SDG twice\n",
        "                    # In that case, not double-counting the population is good\n",
        "                    links[project[COLUMN_PROJECT_ID]][sdg_value] = population\n",
        "                else:\n",
        "                    links[project[COLUMN_PROJECT_ID]][sdg_value] = 1\n",
        "\n",
        "\n",
        "\n",
        "    # Turn into data suitable for sankey\n",
        "    node_labels = []\n",
        "    node_colours = []\n",
        "    project_nodes_idx = {}\n",
        "    sdg_nodes_idx = {}\n",
        "    for project_id, project_name in projects_id_to_name.items():\n",
        "        node_labels.append(\"Project \" + project_id + \": \"+ project_name)\n",
        "        node_colours.append(\"black\")\n",
        "        project_nodes_idx[project_id] = len(node_labels) - 1\n",
        "    for sdg_node in sdg_nodes:\n",
        "        node_labels.append(SDG_GOAL_MAP[sdg_node]['name'])\n",
        "        node_colours.append(SDG_GOAL_MAP[sdg_node]['node_colour'])\n",
        "        sdg_nodes_idx[sdg_node] = len(node_labels) - 1\n",
        "\n",
        "    links_for_sankey = []\n",
        "    for project_id in links.keys():\n",
        "        for sdg in links[project_id].keys():\n",
        "            links_for_sankey.append([project_id, sdg, links[project_id][sdg]])\n",
        "\n",
        "    sankey_node_data = dict(\n",
        "      pad = 15,\n",
        "      thickness = 20,\n",
        "      line = dict(color = \"black\", width = 0.5),\n",
        "      label = node_labels,\n",
        "      color = node_colours\n",
        "    )\n",
        "\n",
        "    sankey_link_data = dict(\n",
        "      source = [project_nodes_idx[l[0]] for l in links_for_sankey],\n",
        "      target = [sdg_nodes_idx[l[1]] for l in links_for_sankey],\n",
        "      value = [l[2] for l in links_for_sankey],\n",
        "      color = [SDG_GOAL_MAP[l[1]]['link_colour'] for l in links_for_sankey]\n",
        "    )\n",
        "\n",
        "    # make Sankey\n",
        "    fig = go.Figure(\n",
        "        data=go.Sankey(\n",
        "            node=sankey_node_data,\n",
        "            link=sankey_link_data,\n",
        "            arrangement='perpendicular',\n",
        "        ),\n",
        "    )\n",
        "\n",
        "    fig.update_layout(\n",
        "        height=sankey_height,\n",
        "    )\n",
        "\n",
        "    fig.show()\n",
        "    fig.write_image(filename)\n",
        "\n",
        "\n",
        "\n"
      ],
      "execution_count": null,
      "outputs": []
    },
    {
      "cell_type": "markdown",
      "metadata": {
        "id": "r3gBlueGEWfY"
      },
      "source": [
        "# A Sankey that just shows links\n",
        "\n",
        "\n",
        "\n"
      ]
    },
    {
      "cell_type": "code",
      "metadata": {
        "id": "oOW_cVY-EZHJ"
      },
      "source": [
        "\n",
        "\n",
        "sankey_viz(projects, sankey_height=4000, filename='sankey.png')\n"
      ],
      "execution_count": null,
      "outputs": []
    },
    {
      "cell_type": "markdown",
      "metadata": {
        "id": "hYjdoWZIMWA5"
      },
      "source": [
        "# A Sankey that shows links weighted by Target Population Number\n",
        "\n",
        "Many projects do not have that data - in those cases, we have just assumed 1.\n"
      ]
    },
    {
      "cell_type": "code",
      "metadata": {
        "id": "hB7voGiBMeyl"
      },
      "source": [
        "sankey_viz(projects, sankey_height=4000, filename='sankey-population.png', weight_by_population=True)\n"
      ],
      "execution_count": null,
      "outputs": []
    }
  ]
}