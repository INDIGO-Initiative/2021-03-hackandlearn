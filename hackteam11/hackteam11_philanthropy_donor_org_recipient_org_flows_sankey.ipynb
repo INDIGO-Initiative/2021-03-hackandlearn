{
  "nbformat": 4,
  "nbformat_minor": 0,
  "metadata": {
    "colab": {
      "name": "hackteam11-philanthropy-donor-org-recipient-org-flows-sankey.ipynb",
      "provenance": [],
      "collapsed_sections": []
    },
    "kernelspec": {
      "name": "python3",
      "display_name": "Python 3"
    }
  },
  "cells": [
    {
      "cell_type": "markdown",
      "metadata": {
        "id": "__75e2FHRP3w"
      },
      "source": [
        "# Sankey diagram - Donor organisation to recipient organisations"
      ]
    },
    {
      "cell_type": "code",
      "metadata": {
        "id": "QyUlB9SNWe91"
      },
      "source": [
        "import pandas as pd\n",
        "import plotly.graph_objects as go\n",
        "\n",
        "from google.colab import files"
      ],
      "execution_count": null,
      "outputs": []
    },
    {
      "cell_type": "markdown",
      "metadata": {
        "id": "YSkwdDW8RbR3"
      },
      "source": [
        "## Upload a file\n",
        "You should be able to upload the `fcra_2009_19_full.csv` file in the next step for use in the visualisation. This can take quite a while. Alternatively, upload the file to your Google drive and then mount the drive."
      ]
    },
    {
      "cell_type": "code",
      "metadata": {
        "id": "wAWipxAnWnG4"
      },
      "source": [
        "uploaded = files.upload()\n",
        "\n",
        "filename = list(uploaded.keys())[0]"
      ],
      "execution_count": null,
      "outputs": []
    },
    {
      "cell_type": "markdown",
      "metadata": {
        "id": "xUFiz4g2TEdo"
      },
      "source": [
        "## Create a Pandas dataframe\n",
        "Convert the csv file in to a Pandas dataframe and have a quick look at the data."
      ]
    },
    {
      "cell_type": "code",
      "metadata": {
        "id": "a_0XfNeoWqGG"
      },
      "source": [
        "# Use the file name from the last upload, or modify for previously uploaded files.\n",
        "#fcra_df = pd.read_csv(filename)\n",
        "\n",
        "fcra_df = pd.read_csv('drive/MyDrive/hackteam11/test/fcra_2009_19_full.csv')\n",
        "\n",
        "print(fcra_df.shape)\n",
        "\n",
        "fcra_df.head(2)"
      ],
      "execution_count": null,
      "outputs": []
    },
    {
      "cell_type": "code",
      "metadata": {
        "id": "x4GsSh6jgqtu"
      },
      "source": [
        "SINGLE = True\n",
        "\n",
        "if SINGLE: \n",
        "\n",
        "    # Single donor plots\n",
        "    donor = 'WorldVision'\n",
        "    #donor = 'Gospel for Asia'\n",
        "    #donor = 'Fundacion Vicente Ferrer'\n",
        "\n",
        "    df = fcra_df[fcra_df['donor_name'] == donor]\n",
        "    total_donations = df['Amount'].sum() / 1e9\n",
        "    title = f'Donor organisation to recipient organisations - {donor} ({total_donations:.2f}B INR)'\n",
        "\n",
        "else:\n",
        "\n",
        "    # Multi donor plots\n",
        "    donors = [\n",
        "        'WorldVision', \n",
        "        'Gospel for Asia',\n",
        "        'Fundacion Vicente Ferrer',\n",
        "        'Compassion International',\n",
        "    ]\n",
        "    \n",
        "    df = fcra_df[fcra_df['donor_name'].isin(donors)]\n",
        "    total_donations = df['Amount'].sum() / 1e9\n",
        "    title = f'Top four religious charitable donor organisations and recipients - {total_donations:.2f}B INR'\n",
        "\n",
        "print(title)\n",
        "print(df.shape)\n",
        "\n",
        "df.head(2)"
      ],
      "execution_count": null,
      "outputs": []
    },
    {
      "cell_type": "markdown",
      "metadata": {
        "id": "VOkkr01hTRgk"
      },
      "source": [
        "## Setup helper methods"
      ]
    },
    {
      "cell_type": "code",
      "metadata": {
        "id": "9UV7xkB5QB9F"
      },
      "source": [
        "DEFAULT_COLOUR = '#AAAAAA'\n",
        "\n",
        "# Add more colour mappings here...\n",
        "COLOUR_MAP = {\n",
        "    'WorldVision': {\n",
        "        'node_colour': '#FD6925',\n",
        "        'link_colour': 'rgba(253, 105, 37, 0.5)',\n",
        "    },\n",
        "    'Gospel for Asia': {\n",
        "        'node_colour': '#4C9F38',\n",
        "        'link_colour': 'rgba(76, 159, 56, 0.5)',\n",
        "    },\n",
        "    'Fundacion Vicente Ferrer': {\n",
        "        'node_colour': '#0A97D9',\n",
        "        'link_colour': 'rgba(10, 151, 217, 0.5)',\n",
        "    },\n",
        "    'Bill and Melinda Gates Foundation': {\n",
        "        'node_colour': '#FCC30B',\n",
        "        'link_colour': 'rgba(252, 195, 11, 0.5)',\n",
        "    },\n",
        "    'Compassion International': {\n",
        "        'color': '#19486A',\n",
        "        'link_colour': 'rgba(25, 72, 106, 0.5)',\n",
        "    },\n",
        "}\n",
        "\n",
        "\n",
        "def add_node(nodes, source, target, value):\n",
        "    \"\"\"\n",
        "    Add a node with source and target\n",
        "    \"\"\"\n",
        "    if source and target:\n",
        "        key = f'{source}_{target}'\n",
        "\n",
        "        if key in nodes:\n",
        "            nodes[key]['value'] += value\n",
        "        else:\n",
        "            nodes[key] = {\n",
        "                'source': source,\n",
        "                'target': target,\n",
        "                'value': value,\n",
        "            }\n",
        "\n",
        "\n",
        "def make_node_data(labels):\n",
        "    \"\"\"\n",
        "    Make the sankey diagram node data\n",
        "    \"\"\"\n",
        "    names = []\n",
        "    node_colours = []\n",
        "\n",
        "    for label in labels:\n",
        "\n",
        "        # Set the node names\n",
        "        names.append(label)\n",
        "        \n",
        "        node_color = COLOUR_MAP.get(label, {}).get('node_colour') or DEFAULT_COLOUR\n",
        "        node_colours.append(node_color)\n",
        "\n",
        "    return {\n",
        "        'label': names,\n",
        "        'color': node_colours,\n",
        "    }\n",
        "\n",
        "\n",
        "def make_link_data(nodes, labels):\n",
        "    \"\"\"\n",
        "    Make the sankey diagram link data\n",
        "    \"\"\"\n",
        "    source = []\n",
        "    target = []\n",
        "    value = []\n",
        "    link_colours = []\n",
        "\n",
        "    for node in nodes.values():\n",
        "        node_source = node['source']\n",
        "        node_target = node['target']\n",
        "        node_value = node['value']\n",
        "\n",
        "        source.append(labels.index(node_source))\n",
        "        target.append(labels.index(node_target))\n",
        "        value.append(node_value)\n",
        "\n",
        "        link_colour = None\n",
        "\n",
        "        # Try to find the colour for the link in the COLOUR_MAP\n",
        "        for key in [node_source, node_target]:\n",
        "            link_colour = GOAL_MAP.get(key, {}).get('link_colour')\n",
        "\n",
        "            if link_colour:\n",
        "                break\n",
        "        \n",
        "        link_colours.append(link_colour or DEFAULT_COLOUR)\n",
        "\n",
        "    return {\n",
        "        'source': source,\n",
        "        'target': target,\n",
        "        'value': value,\n",
        "        'color': link_colours,\n",
        "    }"
      ],
      "execution_count": null,
      "outputs": []
    },
    {
      "cell_type": "markdown",
      "metadata": {
        "id": "u9dpFairXO61"
      },
      "source": [
        "## Create plot data"
      ]
    },
    {
      "cell_type": "code",
      "metadata": {
        "id": "Db0h3nCLXMJH"
      },
      "source": [
        "nodes = {}\n",
        "input_labels = []\n",
        "target_labels = []\n",
        "\n",
        "for i, row in df.iterrows():\n",
        "    \n",
        "    donor_name = row.donor_name\n",
        "    amount = row['Amount']\n",
        "    association_name = row['Association Name']\n",
        "\n",
        "    if not isinstance(association_name, str):\n",
        "        continue\n",
        "        \n",
        "    value = amount\n",
        "    \n",
        "    input = str(donor_name).strip()\n",
        "    target = str(association_name).strip()\n",
        "\n",
        "    input_labels.append(input)\n",
        "    target_labels.append(target)\n",
        "    \n",
        "    add_node(nodes, input, target, value)"
      ],
      "execution_count": null,
      "outputs": []
    },
    {
      "cell_type": "markdown",
      "metadata": {
        "id": "uusyDFf7VnDF"
      },
      "source": [
        "# Build plot"
      ]
    },
    {
      "cell_type": "code",
      "metadata": {
        "id": "VNPIePLdQ3hb"
      },
      "source": [
        "target_labels = sorted(set(target_labels))\n",
        "input_labels = sorted(set(input_labels))\n",
        "\n",
        "labels = input_labels + target_labels\n",
        "\n",
        "#print(labels)\n",
        "\n",
        "# Make the node data\n",
        "node_data = make_node_data(labels)\n",
        "\n",
        "node_data.update({\n",
        "    'pad': 20,\n",
        "    'thickness': 15,\n",
        "    'line': {\n",
        "        'color': 'white',\n",
        "        'width': 1,\n",
        "    },\n",
        "})\n",
        "\n",
        "# Make the link data dictionary\n",
        "link_data = make_link_data(nodes, labels)\n",
        "\n",
        "plot_data = [\n",
        "    go.Sankey(\n",
        "        node=node_data,\n",
        "        link=link_data,\n",
        "        arrangement='perpendicular',\n",
        "    ),\n",
        "]\n",
        "\n",
        "fig = go.Figure(\n",
        "    data=plot_data,\n",
        ")\n",
        "\n",
        "fig.update_layout(\n",
        "    height=900,\n",
        ")\n",
        "\n",
        "fig.update_layout(\n",
        "    title=title,\n",
        "    title_x=0.5,\n",
        ")\n",
        "fig.show()\n"
      ],
      "execution_count": null,
      "outputs": []
    }
  ]
}