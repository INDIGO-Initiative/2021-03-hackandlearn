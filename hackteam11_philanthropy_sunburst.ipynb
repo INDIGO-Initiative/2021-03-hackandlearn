{
  "nbformat": 4,
  "nbformat_minor": 0,
  "metadata": {
    "colab": {
      "name": "hackteam11-philanthropy-sunburst.ipynb",
      "provenance": [],
      "collapsed_sections": []
    },
    "kernelspec": {
      "name": "python3",
      "display_name": "Python 3"
    }
  },
  "cells": [
    {
      "cell_type": "markdown",
      "metadata": {
        "id": "fyP5NZaeBnfU"
      },
      "source": [
        "# Sunburst plot - Visualising Foreign Philanthropy Inflows to India\n",
        "This has been tested with `Donors 2018-19.csv` from the CSIP \"UPDATED OCTOBER 2020: Foreign Philanthropy (FCRA) dataset\".\n",
        "\n",
        "This dataset can be downloaded from here: https://csip.ashoka.edu.in/estimating-philanthropic-capital-india-data/"
      ]
    },
    {
      "cell_type": "code",
      "metadata": {
        "id": "V5xxkukqYjRW"
      },
      "source": [
        "import os\n",
        "\n",
        "import numpy as np\n",
        "import pandas as pd\n",
        "\n",
        "import plotly.graph_objects as go\n",
        "from plotly.subplots import make_subplots\n",
        "\n",
        "from google.colab import files\n",
        "\n",
        "\n",
        "COLOURS = [\n",
        "    'rgb(102, 197, 204)', 'rgb(246, 207, 113)', 'rgb(248, 156, 116)', 'rgb(220, 176, 242)', 'rgb(135, 197, 95)',\n",
        "    'rgb(158, 185, 243)', 'rgb(254, 136, 177)', 'rgb(201, 219, 116)', 'rgb(139, 224, 164)', 'rgb(180, 151, 231)',\n",
        "    'rgb(179, 179, 179)',\n",
        "]"
      ],
      "execution_count": null,
      "outputs": []
    },
    {
      "cell_type": "markdown",
      "metadata": {
        "id": "mvNLfCtWgavd"
      },
      "source": [
        "## Upload a file\n",
        "Once you have downloaded and uzipped the data set, you should be able to upload the `Donors 2018-19.csv` file in the next step for use in the visualisation. This can take a while."
      ]
    },
    {
      "cell_type": "code",
      "metadata": {
        "id": "H5vHzY98XXzT"
      },
      "source": [
        "uploaded = files.upload()\n",
        "\n",
        "filename = list(uploaded.keys())[0]"
      ],
      "execution_count": null,
      "outputs": []
    },
    {
      "cell_type": "markdown",
      "metadata": {
        "id": "jKC7lvt1BZHH"
      },
      "source": [
        "## Create a Pandas dataframe\n",
        "Convert the csv file in to a Pandas dataframe and have a quick look at the data."
      ]
    },
    {
      "cell_type": "code",
      "metadata": {
        "id": "MaVmZDb0X2Sk"
      },
      "source": [
        "# Use the file name from the last upload, or modify for previously uploaded files.\n",
        "df = pd.read_csv(filename)\n",
        "\n",
        "print(filename)\n",
        "df"
      ],
      "execution_count": null,
      "outputs": []
    },
    {
      "cell_type": "code",
      "metadata": {
        "id": "bRpw1Z1zYcKx"
      },
      "source": [
        "n = df.nunique(axis=0) \n",
        "  \n",
        "print(\"No.of.unique values in each column :\\n\", n)"
      ],
      "execution_count": null,
      "outputs": []
    },
    {
      "cell_type": "markdown",
      "metadata": {
        "id": "0CovvWijCFgo"
      },
      "source": [
        "## Create the plot data"
      ]
    },
    {
      "cell_type": "code",
      "metadata": {
        "id": "QQToKO5BAR-D"
      },
      "source": [
        "data = {}\n",
        "total = 0\n",
        "\n",
        "# Extract the data for each 'purpose' type (i.e. Social, Educational etc.)\n",
        "for i, row in df.iterrows():\n",
        "\n",
        "    # Only look at Institutional donors for now\n",
        "    if row['Donor_type'] != 'Institutional':\n",
        "        continue\n",
        "\n",
        "    purpose = row.Purpose\n",
        "    state = row.State\n",
        "    district = row.District\n",
        "\n",
        "    # Make the amounts in billions\n",
        "    amount = row['Amount (INR)'] / 1e9\n",
        "    total += amount\n",
        "\n",
        "    if purpose in data:\n",
        "        data[purpose]['count'] += amount\n",
        "    else:\n",
        "        data[purpose] = {'count': amount, 'states': {}} \n",
        "\n",
        "    if state in data[purpose]['states']:\n",
        "        data[purpose]['states'][state]['count'] += amount\n",
        "    else:\n",
        "        data[purpose]['states'][state] = {'count': amount, 'districts': {}}\n",
        "    \n",
        "    if district in data[purpose]['states'][state]['districts']:\n",
        "        data[purpose]['states'][state]['districts'][district]['count'] += amount\n",
        "    else:\n",
        "        data[purpose]['states'][state]['districts'][district] = {'count': amount}\n",
        "\n",
        "\n",
        "# Build the sunburst plot source data\n",
        "source_data = {}\n",
        "\n",
        "for purpose in data.keys():\n",
        "    \n",
        "    source_data[purpose] = []\n",
        "    source = source_data[purpose]\n",
        "\n",
        "    purpose_total = data[purpose]['count']\n",
        "    percent_of_total = (purpose_total / total) * 100\n",
        "\n",
        "    initial_label = f'{purpose}<br>{purpose_total:.2f} billion (INR)<br>({percent_of_total:.2f}%)'\n",
        "\n",
        "    source.append(\n",
        "        ('', initial_label, purpose_total),\n",
        "    )\n",
        "\n",
        "    for state, s_data in data[purpose]['states'].items():\n",
        "        state_total = s_data['count']\n",
        "\n",
        "        source.append(\n",
        "            (initial_label, state, state_total),\n",
        "        )\n",
        "        \n",
        "        for district, d_data in s_data['districts'].items():\n",
        "            district_total = d_data['count']\n",
        "            source.append(\n",
        "                (state, f' {district} ', district_total),\n",
        "            )"
      ],
      "execution_count": null,
      "outputs": []
    },
    {
      "cell_type": "markdown",
      "metadata": {
        "id": "8cejmcevCVQa"
      },
      "source": [
        "## Build the plots"
      ]
    },
    {
      "cell_type": "code",
      "metadata": {
        "id": "KZKlPW-FCOkv"
      },
      "source": [
        "# Set the number of subplot rows/cols\n",
        "rows = 2\n",
        "cols = 3\n",
        "\n",
        "keys = list(data.keys())\n",
        "\n",
        "fig = make_subplots(\n",
        "    rows=rows, \n",
        "    cols=cols,\n",
        "    specs = [[{'type': 'sunburst'} for c in np.arange(cols)] for r in np.arange(rows)],\n",
        "    vertical_spacing=0.04,\n",
        "    horizontal_spacing=0.04,\n",
        "    subplot_titles=keys,\n",
        ")\n",
        "\n",
        "for i, key in enumerate(keys):\n",
        "    \n",
        "    source = source_data[key]\n",
        "    parents, labels, values = zip(*source)\n",
        "\n",
        "    row = i // cols + 1\n",
        "    col = i % cols + 1\n",
        "\n",
        "    # Calculate the percentage of total for each slice to be used in the hover labels\n",
        "    percents = (np.array(values) / total) * 100\n",
        "\n",
        "    fig.add_trace(\n",
        "        go.Sunburst(\n",
        "            labels=labels,\n",
        "            parents=parents,\n",
        "            values=values,\n",
        "            branchvalues=\"total\",\n",
        "            marker_line_width=0.1,\n",
        "            marker_line_color='rgba(0, 0, 0, 0.9)',\n",
        "            customdata=percents,\n",
        "            hovertemplate='<b>%{label}</b><br>Amount: %{value:.2f} billion (INR)<br>Percent of total: %{customdata:.4f}%<extra></extra>',\n",
        "        ),\n",
        "        row=row,\n",
        "        col=col,\n",
        "    )\n",
        "\n",
        "# Update subplot title size\n",
        "for annotation in fig['layout']['annotations']:\n",
        "    annotation['font_size'] = 13\n",
        "\n",
        "# Update the main layout and add title\n",
        "fig.update_layout(\n",
        "    title=f'Distribution of institutional donations across states and districts - {total:.0f} billion (INR) [{filename}]',\n",
        "    title_x=0.5,\n",
        "    height=1000,\n",
        "    margin = dict(t=120, l=20, r=20, b=20),\n",
        "    colorway=COLOURS,\n",
        ")\n",
        "\n",
        "fig.show()"
      ],
      "execution_count": null,
      "outputs": []
    }
  ]
}